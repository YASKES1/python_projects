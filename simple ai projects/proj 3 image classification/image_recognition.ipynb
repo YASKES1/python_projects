{
  "nbformat": 4,
  "nbformat_minor": 0,
  "metadata": {
    "colab": {
      "provenance": []
    },
    "kernelspec": {
      "name": "python3",
      "display_name": "Python 3"
    },
    "language_info": {
      "name": "python"
    }
  },
  "cells": [
    {
      "cell_type": "code",
      "source": [
        "!pip install streamlit -q"
      ],
      "metadata": {
        "colab": {
          "base_uri": "https://localhost:8080/"
        },
        "id": "-i0QgAWdWVNn",
        "outputId": "d1a1c84a-0332-47e6-d2c6-910b0116f026"
      },
      "execution_count": 4,
      "outputs": [
        {
          "output_type": "stream",
          "name": "stdout",
          "text": [
            "\u001b[2K     \u001b[90m━━━━━━━━━━━━━━━━━━━━━━━━━━━━━━━━━━━━━━━\u001b[0m \u001b[32m44.3/44.3 kB\u001b[0m \u001b[31m842.5 kB/s\u001b[0m eta \u001b[36m0:00:00\u001b[0m\n",
            "\u001b[2K   \u001b[90m━━━━━━━━━━━━━━━━━━━━━━━━━━━━━━━━━━━━━━━━\u001b[0m \u001b[32m9.9/9.9 MB\u001b[0m \u001b[31m31.8 MB/s\u001b[0m eta \u001b[36m0:00:00\u001b[0m\n",
            "\u001b[2K   \u001b[90m━━━━━━━━━━━━━━━━━━━━━━━━━━━━━━━━━━━━━━━━\u001b[0m \u001b[32m6.9/6.9 MB\u001b[0m \u001b[31m67.2 MB/s\u001b[0m eta \u001b[36m0:00:00\u001b[0m\n",
            "\u001b[2K   \u001b[90m━━━━━━━━━━━━━━━━━━━━━━━━━━━━━━━━━━━━━━━━\u001b[0m \u001b[32m79.1/79.1 kB\u001b[0m \u001b[31m4.6 MB/s\u001b[0m eta \u001b[36m0:00:00\u001b[0m\n",
            "\u001b[?25h"
          ]
        }
      ]
    },
    {
      "cell_type": "code",
      "execution_count": 6,
      "metadata": {
        "colab": {
          "base_uri": "https://localhost:8080/"
        },
        "id": "lkPhWe85Qlny",
        "outputId": "8f4ac3f3-5bbf-4ce6-fd1e-edbf510f8021"
      },
      "outputs": [
        {
          "output_type": "stream",
          "name": "stdout",
          "text": [
            "Writing app.py\n"
          ]
        }
      ],
      "source": [
        "%%writefile app.py\n",
        "import cv2\n",
        "import numpy as np\n",
        "import streamlit as st\n",
        "from tensorflow.keras.applications_v2 import (\n",
        "    MobileNetV2,\n",
        "    preprocess_input,\n",
        "    decode_predictions,\n",
        ")\n",
        "from PIL import Image\n",
        "\n",
        "\n",
        "def load_model():\n",
        "    model = MobileNetV2(weights=\"imagenet\")\n",
        "    return model\n",
        "\n",
        "def preprocess_image(image):\n",
        "  img = np.array(image) #converts image into array of pixel values\n",
        "  img = cv2.resize(img, (224, 224)) #resive img to fit into model\n",
        "  img = preprocess_input(img) #preprocess input\n",
        "  img = np.expand_dims(img, axis=0) #convert image into a list of images to fit into a model\n",
        "  return img\n",
        "\n",
        "def classify_img(model, image):\n",
        "  try:\n",
        "    processed_image = process_image(image)\n",
        "    predictions = model.predictions(processed_image)\n",
        "    decoded_predictions = decode_predictions(predictions, top=3)[0]\n",
        "    return decoded_predictions\n",
        "  except Exception as e:\n",
        "    st.error(f\"Error classyfying image: {e}\")\n",
        "    return None\n",
        "\n",
        "def main():\n",
        "  st.set_page_config(page_title=\"Image Classification App\", page_icon=\":camera:\")\n",
        "  st.title(\"Image Classification App\")\n",
        "  st.write(\"Upload image and let AI tell you what is in it!\")\n",
        "\n",
        "  @st.cache_resource\n",
        "  def load_cached_model():\n",
        "    return load_model()\n",
        "\n",
        "  model = load_cached_model()\n",
        "\n",
        "  uploaded_file = st.file_uploader(\"Choose an image...\", type=[\"jpg\", \"png\", \"jpeg\"])\n",
        "\n",
        "  if uploaded_file is not None:\n",
        "    image = st.image(\n",
        "        uploaded_file, caption=\"Uploaded Image\", use_container_width=True\n",
        "    )\n",
        "    btn = st.button(\"Classify image\")\n",
        "    if btn:\n",
        "      with st.spinner(\"Analysing icon\"):\n",
        "        #loading icon\n",
        "        image = Image.open(uploaded_file)\n",
        "        predictions = classify_image(image)\n",
        "\n",
        "        if predictions:\n",
        "          st.subheader(\"Predictions\")\n",
        "          for _, label, score in predictions:  #index, label, %\n",
        "            st.write(f\"**{label}**: {score: 2%}\")\n",
        "\n",
        "if __name__ == \"__main__\":\n",
        "  main()"
      ]
    },
    {
      "cell_type": "code",
      "source": [
        "!streamlit run app.py"
      ],
      "metadata": {
        "colab": {
          "base_uri": "https://localhost:8080/"
        },
        "id": "XJVXRBwhWS4A",
        "outputId": "a5fdf5ac-6678-40f6-b1d1-f9583ef5e523"
      },
      "execution_count": null,
      "outputs": [
        {
          "output_type": "stream",
          "name": "stdout",
          "text": [
            "\n",
            "Collecting usage statistics. To deactivate, set browser.gatherUsageStats to false.\n",
            "\u001b[0m\n",
            "\u001b[0m\n",
            "\u001b[34m\u001b[1m  You can now view your Streamlit app in your browser.\u001b[0m\n",
            "\u001b[0m\n",
            "\u001b[34m  Local URL: \u001b[0m\u001b[1mhttp://localhost:8501\u001b[0m\n",
            "\u001b[34m  Network URL: \u001b[0m\u001b[1mhttp://172.28.0.12:8501\u001b[0m\n",
            "\u001b[34m  External URL: \u001b[0m\u001b[1mhttp://35.221.161.197:8501\u001b[0m\n",
            "\u001b[0m\n"
          ]
        }
      ]
    }
  ]
}