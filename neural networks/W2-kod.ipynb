{
 "cells": [
  {
   "cell_type": "markdown",
   "metadata": {},
   "source": [
    "# Kompleksowy przewodnik po bibliotece Pandas w Pythonie\n",
    "\n",
    "Ten notatnik pokazuje szeroki zakres funkcjonalności biblioteki `pandas`, od podstawowych operacji po zaawansowane techniki analizy danych. Każda sekcja zawiera szczegółowe wyjaśnienia i przykłady kodu."
   ]
  },
  {
   "cell_type": "markdown",
   "metadata": {},
   "source": [
    "## 1. Wprowadzenie do Pandas\n",
    "\n",
    "`Pandas` to potężna biblioteka do analizy danych w Pythonie. Pozwala na manipulowanie danymi w formie tabel (DataFrame) oraz serii (Series)."
   ]
  },
  {
   "cell_type": "code",
   "execution_count": null,
   "metadata": {},
   "outputs": [],
   "source": [
    "import pandas as pd\n",
    "import numpy as np"
   ]
  },
  {
   "cell_type": "markdown",
   "metadata": {},
   "source": [
    "## 2. Tworzenie DataFrame\n",
    "\n",
    "DataFrame to dwuwymiarowa struktura danych, podobna do tabeli w bazie danych. Można go tworzyć na różne sposoby."
   ]
  },
  {
   "cell_type": "code",
   "execution_count": null,
   "metadata": {},
   "outputs": [],
   "source": [
    "# Tworzenie DataFrame z słownika\n",
    "data = {'Imie': ['Anna', 'Jan', 'Katarzyna'], 'Wiek': [25, 30, 22], 'Plec': ['K', 'M', 'K']}\n",
    "df = pd.DataFrame(data)\n",
    "print(\"DataFrame z słownika:\\n\", df)\n",
    "\n",
    "# Tworzenie DataFrame z listy list\n",
    "data = [['Anna', 25, 'K'], ['Jan', 30, 'M'], ['Katarzyna', 22, 'K']]\n",
    "df = pd.DataFrame(data, columns=['Imie', 'Wiek', 'Plec'])\n",
    "print(\"\\nDataFrame z listy list:\\n\", df)\n",
    "\n",
    "# Tworzenie DataFrame z pliku CSV\n",
    "# df = pd.read_csv('dane.csv')"
   ]
  },
  {
   "cell_type": "markdown",
   "metadata": {},
   "source": [
    "## 3. Podstawowe operacje na DataFrame\n",
    "\n",
    "Pandas oferuje wiele funkcji do przeglądania i manipulowania danymi."
   ]
  },
  {
   "cell_type": "code",
   "execution_count": null,
   "metadata": {},
   "outputs": [],
   "source": [
    "# Podgląd pierwszych i ostatnich wierszy\n",
    "print(\"Pierwsze 2 wiersze:\\n\", df.head(2))\n",
    "print(\"\\nOstatnie 2 wiersze:\\n\", df.tail(2))\n",
    "\n",
    "# Informacje o DataFrame\n",
    "print(\"\\nInformacje o DataFrame:\")\n",
    "df.info()\n",
    "\n",
    "# Statystyki opisowe\n",
    "print(\"\\nStatystyki opisowe:\\n\", df.describe())\n",
    "\n",
    "# Wybór kolumn\n",
    "print(\"\\nKolumna 'Imie':\\n\", df['Imie'])\n",
    "\n",
    "# Wybór wierszy\n",
    "print(\"\\nPierwszy wiersz:\\n\", df.iloc[0])\n",
    "\n",
    "# Filtrowanie danych\n",
    "print(\"\\nOsoby starsze niż 25 lat:\\n\", df[df['Wiek'] > 25])"
   ]
  },
  {
   "cell_type": "markdown",
   "metadata": {},
   "source": [
    "## 4. Operacje na danych\n",
    "\n",
    "Pandas umożliwia wykonywanie różnych operacji na danych, takich jak sortowanie, grupowanie i agregacja."
   ]
  },
  {
   "cell_type": "code",
   "execution_count": null,
   "metadata": {},
   "outputs": [],
   "source": [
    "# Sortowanie danych\n",
    "print(\"Sortowanie według wieku:\\n\", df.sort_values('Wiek'))\n",
    "\n",
    "# Grupowanie danych\n",
    "print(\"\\nŚredni wiek według płci:\\n\", df.groupby('Plec')['Wiek'].mean())\n",
    "\n",
    "# Dodawanie nowej kolumny\n",
    "df['Czy_Pelnoletni'] = df['Wiek'] >= 18\n",
    "print(\"\\nDataFrame z nową kolumną:\\n\", df)\n",
    "\n",
    "# Usuwanie kolumny\n",
    "df = df.drop(columns=['Czy_Pelnoletni'])\n",
    "print(\"\\nDataFrame po usunięciu kolumny:\\n\", df)"
   ]
  },
  {
   "cell_type": "markdown",
   "metadata": {},
   "source": [
    "## 5. Praca z brakującymi danymi\n",
    "\n",
    "Pandas oferuje narzędzia do radzenia sobie z brakującymi danymi."
   ]
  },
  {
   "cell_type": "code",
   "execution_count": null,
   "metadata": {},
   "outputs": [],
   "source": [
    "# Tworzenie DataFrame z brakującymi danymi\n",
    "data = {'Imie': ['Anna', 'Jan', None], 'Wiek': [25, None, 22], 'Plec': ['K', 'M', None]}\n",
    "df_missing = pd.DataFrame(data)\n",
    "print(\"DataFrame z brakującymi danymi:\\n\", df_missing)\n",
    "\n",
    "# Sprawdzanie brakujących danych\n",
    "print(\"\\nBrakujące dane:\\n\", df_missing.isnull())\n",
    "\n",
    "# Usuwanie wierszy z brakującymi danymi\n",
    "df_cleaned = df_missing.dropna()\n",
    "print(\"\\nDataFrame po usunięciu brakujących danych:\\n\", df_cleaned)\n",
    "\n",
    "# Wypełnianie brakujących danych\n",
    "df_filled = df_missing.fillna({'Imie': 'Nieznane', 'Wiek': 0, 'Plec': 'N/A'})\n",
    "print(\"\\nDataFrame po wypełnieniu brakujących danych:\\n\", df_filled)"
   ]
  },
  {
   "cell_type": "markdown",
   "metadata": {},
   "source": [
    "## 6. Operacje na kolumnach\n",
    "\n",
    "Można łatwo modyfikować i przetwarzać kolumny w DataFrame."
   ]
  },
  {
   "cell_type": "code",
   "execution_count": null,
   "metadata": {},
   "outputs": [],
   "source": [
    "# Zmiana nazw kolumn\n",
    "df.columns = ['Name', 'Age', 'Gender']\n",
    "print(\"DataFrame po zmianie nazw kolumn:\\n\", df)\n",
    "\n",
    "# Resetowanie nazw kolumn\n",
    "df.columns = ['Imie', 'Wiek', 'Plec']\n",
    "print(\"\\nDataFrame po resetowaniu nazw kolumn:\\n\", df)\n",
    "\n",
    "# Stosowanie funkcji do kolumn\n",
    "df['Wiek'] = df['Wiek'].apply(lambda x: x + 1)\n",
    "print(\"\\nDataFrame po zwiększeniu wieku o 1:\\n\", df)"
   ]
  },
  {
   "cell_type": "markdown",
   "metadata": {},
   "source": [
    "## 7. Łączenie DataFrame\n",
    "\n",
    "Pandas umożliwia łączenie wielu DataFrame na różne sposoby."
   ]
  },
  {
   "cell_type": "code",
   "execution_count": null,
   "metadata": {},
   "outputs": [],
   "source": [
    "# Tworzenie dwóch DataFrame\n",
    "df1 = pd.DataFrame({'Imie': ['Anna', 'Jan'], 'Wiek': [25, 30]})\n",
    "df2 = pd.DataFrame({'Imie': ['Katarzyna', 'Piotr'], 'Wiek': [22, 35]})\n",
    "\n",
    "# Łączenie wierszami (concat)\n",
    "df_concat = pd.concat([df1, df2], ignore_index=True)\n",
    "print(\"Połączenie wierszami:\\n\", df_concat)\n",
    "\n",
    "# Łączenie kolumnami (merge)\n",
    "df3 = pd.DataFrame({'Imie': ['Anna', 'Jan'], 'Zawod': ['Lekarz', 'Inżynier']})\n",
    "df_merge = pd.merge(df1, df3, on='Imie')\n",
    "print(\"\\nPołączenie kolumnami:\\n\", df_merge)"
   ]
  },
  {
   "cell_type": "markdown",
   "metadata": {},
   "source": [
    "## 8. Zaawansowane funkcje\n",
    "\n",
    "Pandas oferuje wiele zaawansowanych funkcji, takich jak pivotowanie, praca z czasem i wiele innych."
   ]
  },
  {
   "cell_type": "code",
   "execution_count": null,
   "metadata": {},
   "outputs": [],
   "source": [
    "# Pivotowanie danych\n",
    "df_pivot = df.pivot_table(index='Plec', values='Wiek', aggfunc='mean')\n",
    "print(\"Tabela przestawna:\\n\", df_pivot)\n",
    "\n",
    "# Praca z czasem\n",
    "df_time = pd.DataFrame({'Data': pd.date_range(start='2023-01-01', periods=5, freq='D'), 'Wartosc': [10, 20, 30, 40, 50]})\n",
    "print(\"\\nDataFrame z danymi czasowymi:\\n\", df_time)\n",
    "\n",
    "# Wyciąganie informacji o dacie\n",
    "df_time['Rok'] = df_time['Data'].dt.year\n",
    "df_time['Miesiac'] = df_time['Data'].dt.month\n",
    "print(\"\\nDataFrame z dodatkowymi kolumnami czasowymi:\\n\", df_time)"
   ]
  },
  {
   "cell_type": "markdown",
   "metadata": {},
   "source": [
    "## 9. Eksport danych\n",
    "\n",
    "Pandas umożliwia łatwe eksportowanie danych do różnych formatów."
   ]
  },
  {
   "cell_type": "code",
   "execution_count": null,
   "metadata": {},
   "outputs": [],
   "source": [
    "# Eksport do CSV\n",
    "df.to_csv('output.csv', index=False)\n",
    "\n",
    "# Eksport do Excel\n",
    "df.to_excel('output.xlsx', index=False)"
   ]
  },
  {
   "cell_type": "markdown",
   "metadata": {},
   "source": [
    "## 10. Wizualizacja danych za pomocą matplotlib\n",
    "\n",
    "Poniżej przedstawiono przykłady różnych typów wykresów, które można wykorzystać do analizy danych."
   ]
  },
  {
   "cell_type": "code",
   "execution_count": null,
   "metadata": {},
   "outputs": [],
   "source": [
    "# Wczytanie niezbędnych bibliotek\n",
    "import pandas as pd\n",
    "import matplotlib.pyplot as plt\n",
    "\n",
    "# Pobranie danych z pliku CSV z internetu (np. z Kaggle)\n",
    "# Przykładowy zbiór danych: \"Titanic: Machine Learning from Disaster\"\n",
    "url = 'https://raw.githubusercontent.com/datasciencedojo/datasets/master/titanic.csv'\n",
    "data = pd.read_csv(url)\n",
    "\n",
    "# Wyświetlenie pierwszych kilku wierszy danych\n",
    "print(data.head())"
   ]
  },
  {
   "cell_type": "markdown",
   "metadata": {},
   "source": [
    "### Histogram wieku\n",
    "* Histogram służy do przedstawienia rozkładu wartości numerycznej (np. wieku) w postaci przedziałów (binów).\n",
    "* Pozwala zobaczyć, jak często występują różne przedziały wartości."
   ]
  },
  {
   "cell_type": "code",
   "execution_count": null,
   "metadata": {},
   "outputs": [],
   "source": [
    "# 1. Histogram wieku pasażerów\n",
    "plt.hist(data['Age'].dropna(), bins=20, color='teal', edgecolor='black')\n",
    "plt.title('Rozkład wieku pasażerów')\n",
    "plt.xlabel('Wiek')\n",
    "plt.ylabel('Liczba pasażerów')\n",
    "plt.show()\n",
    "# Interpretacja: Wykres pokazuje rozkład wieku pasażerów na Titanicu."
   ]
  },
  {
   "cell_type": "markdown",
   "metadata": {},
   "source": [
    "### Wykres słupkowy:\n",
    "* Służy do porównywania częstości występowania różnych kategorii (np. liczby dzieci).\n",
    "* Na osi X znajdują się kategorie, a na osi Y liczba obserwacji.\n",
    "* Przykład: Możemy zobaczyć, ile osób ma 0, 1, 2 dzieci itd."
   ]
  },
  {
   "cell_type": "code",
   "execution_count": null,
   "metadata": {},
   "outputs": [],
   "source": [
    "# 2. Wykres słupkowy płci klientów\n",
    "data['sex'].value_counts().plot(kind='bar', color=['pink', 'lightblue'])\n",
    "plt.title('Rozkład płci klientów')\n",
    "plt.xlabel('Płeć')\n",
    "plt.ylabel('Liczba klientów')\n",
    "plt.show()\n",
    "# Interpretacja: Wykres pokazuje, ilu klientów to mężczyźni, a ile kobiety."
   ]
  },
  {
   "cell_type": "markdown",
   "metadata": {},
   "source": [
    "### Wykres pudełkowy:\n",
    "* Służy do przedstawienia rozkładu danych numerycznych, w tym wartości odstających.\n",
    "* Pokazuje medianę, kwartyle oraz zakres danych.\n",
    "* Przykład: Możemy zobaczyć, jakie są typowe dochody oraz czy istnieją wartości odstające."
   ]
  },
  {
   "cell_type": "code",
   "execution_count": null,
   "metadata": {},
   "outputs": [],
   "source": [
    "# 3. Wykres pudełkowy napiwków\n",
    "plt.boxplot(data['tip'])\n",
    "plt.title('Rozkład napiwków')\n",
    "plt.ylabel('Napiwek')\n",
    "plt.show()\n",
    "# Interpretacja: Wykres pokazuje medianę, kwartyle oraz wartości odstające w danych dotyczących napiwków."
   ]
  },
  {
   "cell_type": "markdown",
   "metadata": {},
   "source": [
    "### Wykres punktowy:\n",
    "* Służy do pokazania zależności między dwiema zmiennymi numerycznymi (np. wiekiem a dochodem).\n",
    "* Każdy punkt reprezentuje jedną obserwację.\n",
    "* Przykład: Możemy zobaczyć, czy starsze osoby zarabiają więcej."
   ]
  },
  {
   "cell_type": "code",
   "execution_count": null,
   "metadata": {},
   "outputs": [],
   "source": [
    "# 4. Wykres punktowy: Kwota rachunku vs Napiwek\n",
    "plt.scatter(data['total_bill'], data['tip'], color='green')\n",
    "plt.title('Kwota rachunku vs Napiwek')\n",
    "plt.xlabel('Kwota rachunku')\n",
    "plt.ylabel('Napiwek')\n",
    "plt.show()"
   ]
  },
  {
   "cell_type": "markdown",
   "metadata": {},
   "source": [
    "### Wykres kołowy:\n",
    "* Służy do pokazania proporcji różnych kategorii (np. płci) w postaci procentowej.\n",
    "* Każdy wycinek koła reprezentuje udział danej kategorii w całości.\n",
    "* Przykład: Możemy zobaczyć, jaki procent osób to kobiety, a jaki mężczyźni."
   ]
  },
  {
   "cell_type": "code",
   "execution_count": null,
   "metadata": {},
   "outputs": [],
   "source": [
    "# 5. Wykres kołowy dni tygodnia\n",
    "data['day'].value_counts().plot(kind='pie', autopct='%1.1f%%', colors=['gold', 'lightcoral', 'lightgreen', 'lightblue'])\n",
    "plt.title('Rozkład dni tygodnia')\n",
    "plt.show()\n",
    "# Interpretacja: Wykres pokazuje, jaki procent rachunków został wystawiony w poszczególne dni tygodnia."
   ]
  },
  {
   "cell_type": "markdown",
   "metadata": {},
   "source": [
    "## 11. Podsumowanie\n",
    "\n",
    "W tym notatniku omówiliśmy:\n",
    "- Tworzenie i podstawowe operacje na DataFrame.\n",
    "- Pracę z brakującymi danymi.\n",
    "- Łączenie i modyfikowanie DataFrame.\n",
    "- Zaawansowane funkcje, takie jak pivotowanie i praca z czasem.\n",
    "- Eksport danych do różnych formatów.\n",
    "- Wizualizację danych.\n",
    "\n",
    "Zachęcam do eksperymentowania z kodem i odkrywania kolejnych funkcjonalności biblioteki `pandas`!"
   ]
  }
 ],
 "metadata": {
  "kernelspec": {
   "display_name": "Python 3",
   "language": "python",
   "name": "python3"
  },
  "language_info": {
   "codemirror_mode": {
    "name": "ipython",
    "version": 3
   },
   "file_extension": ".py",
   "mimetype": "text/x-python",
   "name": "python",
   "nbconvert_exporter": "python",
   "pygments_lexer": "ipython3",
   "version": "3.8.5"
  }
 },
 "nbformat": 4,
 "nbformat_minor": 4
}
