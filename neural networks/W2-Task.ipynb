{
 "cells": [
  {
   "cell_type": "code",
   "execution_count": null,
   "metadata": {},
   "outputs": [],
   "source": [
    "# Wczytanie niezbędnych bibliotek\n",
    "import pandas as pd\n",
    "import numpy as np\n",
    "import matplotlib.pyplot as plt"
   ]
  },
  {
   "cell_type": "code",
   "execution_count": null,
   "metadata": {},
   "outputs": [],
   "source": [
    "# Wczytanie danych z pliku CSV\n",
    "# Użyj funkcji pd.read_csv() do wczytania danych z pliku 'dane_demograficzne.csv'\n"
   ]
  },
  {
   "cell_type": "code",
   "execution_count": null,
   "metadata": {},
   "outputs": [],
   "source": [
    "# Wyświetlenie pierwszych kilku wierszy danych\n",
    "# Użyj metody .head() aby zobaczyć pierwsze 5 wierszy\n"
   ]
  },
  {
   "cell_type": "code",
   "execution_count": null,
   "metadata": {},
   "outputs": [],
   "source": [
    "# Sprawdzenie podstawowych informacji o danych\n",
    "# Użyj metody .info() aby uzyskać informacje o kolumnach, typach danych i brakujących wartościach\n"
   ]
  },
  {
   "cell_type": "code",
   "execution_count": null,
   "metadata": {},
   "outputs": [],
   "source": [
    "# Sprawdzenie statystyk opisowych\n",
    "# Użyj metody .describe() aby uzyskać statystyki opisowe dla kolumn numerycznych\n"
   ]
  },
  {
   "cell_type": "code",
   "execution_count": null,
   "metadata": {},
   "outputs": [],
   "source": [
    "# Znajdowanie i naprawianie brakujących wartości\n",
    "# Użyj metody .isnull() aby znaleźć brakujące wartości\n",
    "# Zastąp brakujące wartości odpowiednimi wartościami (np. średnią, medianą, modą)\n"
   ]
  },
  {
   "cell_type": "code",
   "execution_count": null,
   "metadata": {},
   "outputs": [],
   "source": [
    "# Naprawianie nieprawidłowego formatowania\n",
    "# Sprawdź kolumnę 'wyksztalcenie' pod kątem nieprawidłowego formatowania i popraw je\n"
   ]
  },
  {
   "cell_type": "code",
   "execution_count": null,
   "metadata": {},
   "outputs": [],
   "source": [
    "# Znajdowanie i naprawianie wartości odstających\n",
    "# Użyj wykresów pudełkowych (boxplot) do identyfikacji wartości odstających (plt.boxplot(dane))"
   ]
  },
  {
   "cell_type": "code",
   "execution_count": null,
   "metadata": {},
   "outputs": [],
   "source": [
    "# Naprawianie nieprawidłowych wartości\n",
    "# Sprawdź kolumnę 'plec' pod kątem nieprawidłowych wartości i popraw je"
   ]
  },
  {
   "cell_type": "code",
   "execution_count": null,
   "metadata": {},
   "outputs": [],
   "source": [
    "# Wizualizacja danych\n",
    "# Stwórz histogram wieku używając matplotlib i plt.hist"
   ]
  },
  {
   "cell_type": "code",
   "execution_count": null,
   "metadata": {},
   "outputs": [],
   "source": [
    "# Stwórz wykres słupkowy liczby dzieci korzystając z value_counts i plot(kind='bar')"
   ]
  },
  {
   "cell_type": "code",
   "execution_count": null,
   "metadata": {},
   "outputs": [],
   "source": [
    "# Stwórz wykres punktowy wieku vs dochód przy pomocy plt.scatter"
   ]
  },
  {
   "cell_type": "code",
   "execution_count": null,
   "metadata": {},
   "outputs": [],
   "source": [
    "# Stwórz wykres kołowy płci korzystając z value_counts i plot(kind='pie')\n"
   ]
  }
 ],
 "metadata": {
  "kernelspec": {
   "display_name": "Python 3",
   "language": "python",
   "name": "python3"
  },
  "language_info": {
   "codemirror_mode": {
    "name": "ipython",
    "version": 3
   },
   "file_extension": ".py",
   "mimetype": "text/x-python",
   "name": "python",
   "nbconvert_exporter": "python",
   "pygments_lexer": "ipython3",
   "version": "3.8.5"
  }
 },
 "nbformat": 4,
 "nbformat_minor": 4
}
